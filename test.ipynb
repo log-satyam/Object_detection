{
 "cells": [
  {
   "cell_type": "code",
   "execution_count": 57,
   "id": "a7d5a90d",
   "metadata": {},
   "outputs": [],
   "source": [
    "import cv2\n",
    "import numpy as np\n",
    "from detection import ObjectDetection"
   ]
  },
  {
   "cell_type": "code",
   "execution_count": 58,
   "id": "4b754d94",
   "metadata": {},
   "outputs": [],
   "source": [
    "cap = cv2.VideoCapture(\"detect.mp4\")"
   ]
  },
  {
   "cell_type": "code",
   "execution_count": 59,
   "id": "6a4b2faf",
   "metadata": {},
   "outputs": [
    {
     "name": "stdout",
     "output_type": "stream",
     "text": [
      "Loading Object Detection\n",
      "Running opencv dnn with YOLOv4\n"
     ]
    }
   ],
   "source": [
    "od = ObjectDetection()"
   ]
  },
  {
   "cell_type": "code",
   "execution_count": 60,
   "id": "27bd9902",
   "metadata": {},
   "outputs": [],
   "source": [
    "while True:\n",
    "    ret,frame = cap.read()\n",
    "    if not ret:\n",
    "        break\n",
    "    \n",
    "    #Detecting objects on frame\n",
    "    (class_ids, scores, boxes) = od.detect(frame)\n",
    "    for box in boxes:\n",
    "        (x,y,w,h) = box\n",
    "        cv2.rectangle(frame,(x,y),(x+w,y+h),(255,0,0),3)\n",
    "    resize_frame = cv2.resize(frame,(1000,800))\n",
    "    cv2.imshow(\"frame\",resize_frame)\n",
    "    \n",
    "    if cv2.waitKey(100) & 0xff == ord('q'):\n",
    "        break\n",
    "\n",
    "cap.release()\n",
    "cv2.destroyAllWindows()"
   ]
  },
  {
   "cell_type": "code",
   "execution_count": null,
   "id": "e73fa8af",
   "metadata": {},
   "outputs": [],
   "source": []
  },
  {
   "cell_type": "code",
   "execution_count": null,
   "id": "a249d50f",
   "metadata": {},
   "outputs": [],
   "source": []
  }
 ],
 "metadata": {
  "kernelspec": {
   "display_name": "Python 3 (ipykernel)",
   "language": "python",
   "name": "python3"
  },
  "language_info": {
   "codemirror_mode": {
    "name": "ipython",
    "version": 3
   },
   "file_extension": ".py",
   "mimetype": "text/x-python",
   "name": "python",
   "nbconvert_exporter": "python",
   "pygments_lexer": "ipython3",
   "version": "3.11.3"
  }
 },
 "nbformat": 4,
 "nbformat_minor": 5
}
